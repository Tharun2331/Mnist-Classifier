{
  "nbformat": 4,
  "nbformat_minor": 0,
  "metadata": {
    "colab": {
      "name": "mnsit.ipynb",
      "provenance": [],
      "collapsed_sections": [],
      "authorship_tag": "ABX9TyOEl3MCuiwIty7EtBU45+BZ",
      "include_colab_link": true
    },
    "kernelspec": {
      "name": "python3",
      "display_name": "Python 3"
    },
    "language_info": {
      "name": "python"
    },
    "accelerator": "GPU"
  },
  "cells": [
    {
      "cell_type": "markdown",
      "metadata": {
        "id": "view-in-github",
        "colab_type": "text"
      },
      "source": [
        "<a href=\"https://colab.research.google.com/github/Tharun2331/Mnist-Classifier/blob/master/mnsit.ipynb\" target=\"_parent\"><img src=\"https://colab.research.google.com/assets/colab-badge.svg\" alt=\"Open In Colab\"/></a>"
      ]
    },
    {
      "cell_type": "code",
      "metadata": {
        "id": "OoginOiw51cf"
      },
      "source": [
        "import tensorflow as tf"
      ],
      "execution_count": null,
      "outputs": []
    },
    {
      "cell_type": "code",
      "metadata": {
        "colab": {
          "base_uri": "https://localhost:8080/",
          "height": 35
        },
        "id": "lPzsazEO6RGK",
        "outputId": "573a939d-72ab-4876-9b06-22781a15254d"
      },
      "source": [
        "tf.__version__"
      ],
      "execution_count": null,
      "outputs": [
        {
          "output_type": "execute_result",
          "data": {
            "application/vnd.google.colaboratory.intrinsic+json": {
              "type": "string"
            },
            "text/plain": [
              "'2.6.0'"
            ]
          },
          "metadata": {},
          "execution_count": 2
        }
      ]
    },
    {
      "cell_type": "code",
      "metadata": {
        "colab": {
          "base_uri": "https://localhost:8080/",
          "height": 35
        },
        "id": "JeLGJqvG6UAQ",
        "outputId": "a16adf5b-5216-47a9-aeab-6aa1ccc35c5f"
      },
      "source": [
        "tf.keras.__version__"
      ],
      "execution_count": null,
      "outputs": [
        {
          "output_type": "execute_result",
          "data": {
            "application/vnd.google.colaboratory.intrinsic+json": {
              "type": "string"
            },
            "text/plain": [
              "'2.6.0'"
            ]
          },
          "metadata": {},
          "execution_count": 3
        }
      ]
    },
    {
      "cell_type": "code",
      "metadata": {
        "colab": {
          "base_uri": "https://localhost:8080/"
        },
        "id": "G_AAMBn16ZRs",
        "outputId": "db597d39-b5d7-48e2-c226-fed2ce1a0f88"
      },
      "source": [
        "tf.config.list_physical_devices(\"GPU\")"
      ],
      "execution_count": null,
      "outputs": [
        {
          "output_type": "execute_result",
          "data": {
            "text/plain": [
              "[PhysicalDevice(name='/physical_device:GPU:0', device_type='GPU')]"
            ]
          },
          "metadata": {},
          "execution_count": 4
        }
      ]
    },
    {
      "cell_type": "code",
      "metadata": {
        "colab": {
          "base_uri": "https://localhost:8080/"
        },
        "id": "IwATMycd7l2c",
        "outputId": "7fc532a8-f104-40dc-fddb-6273cfd6b453"
      },
      "source": [
        "tf.config.list_physical_devices(\"CPU\")"
      ],
      "execution_count": null,
      "outputs": [
        {
          "output_type": "execute_result",
          "data": {
            "text/plain": [
              "[PhysicalDevice(name='/physical_device:CPU:0', device_type='CPU')]"
            ]
          },
          "metadata": {},
          "execution_count": 5
        }
      ]
    },
    {
      "cell_type": "code",
      "metadata": {
        "id": "ldirEKWl7sCZ"
      },
      "source": [
        "import numpy as np\n",
        "import matplotlib.pyplot as plt\n",
        "import pandas as pd \n",
        "import seaborn as sns\n"
      ],
      "execution_count": null,
      "outputs": []
    },
    {
      "cell_type": "code",
      "metadata": {
        "id": "-LrkJAS78cs4"
      },
      "source": [
        "mnist = tf.keras.datasets.mnist"
      ],
      "execution_count": null,
      "outputs": []
    },
    {
      "cell_type": "code",
      "metadata": {
        "id": "WZQSbW_88ioF"
      },
      "source": [
        "(X_train_full,y_train_full),(X_test,y_test) = mnist.load_data()"
      ],
      "execution_count": null,
      "outputs": []
    },
    {
      "cell_type": "code",
      "metadata": {
        "colab": {
          "base_uri": "https://localhost:8080/"
        },
        "id": "KYZb5z6k8oEv",
        "outputId": "79dcd7a0-12b1-46a6-f09c-2f56c2773100"
      },
      "source": [
        "X_train_full.shape"
      ],
      "execution_count": null,
      "outputs": [
        {
          "output_type": "execute_result",
          "data": {
            "text/plain": [
              "(60000, 28, 28)"
            ]
          },
          "metadata": {},
          "execution_count": 21
        }
      ]
    },
    {
      "cell_type": "code",
      "metadata": {
        "colab": {
          "base_uri": "https://localhost:8080/"
        },
        "id": "uYQv6H8z8-yK",
        "outputId": "5ba6349f-4b65-4965-f3b5-89e89e581077"
      },
      "source": [
        "y_train_full.shape"
      ],
      "execution_count": null,
      "outputs": [
        {
          "output_type": "execute_result",
          "data": {
            "text/plain": [
              "(60000,)"
            ]
          },
          "metadata": {},
          "execution_count": 13
        }
      ]
    },
    {
      "cell_type": "code",
      "metadata": {
        "colab": {
          "base_uri": "https://localhost:8080/"
        },
        "id": "dMSYT-eu9CDY",
        "outputId": "5a9563b9-de64-43f4-b2de-d8ebe8c6994d"
      },
      "source": [
        "X_test.shape"
      ],
      "execution_count": null,
      "outputs": [
        {
          "output_type": "execute_result",
          "data": {
            "text/plain": [
              "(10000, 28, 28)"
            ]
          },
          "metadata": {},
          "execution_count": 61
        }
      ]
    },
    {
      "cell_type": "code",
      "metadata": {
        "colab": {
          "base_uri": "https://localhost:8080/"
        },
        "id": "QQGll47U9NgV",
        "outputId": "90e96edf-f9e4-42bc-e110-fb8098b95cc1"
      },
      "source": [
        "y_test[0]"
      ],
      "execution_count": null,
      "outputs": [
        {
          "output_type": "execute_result",
          "data": {
            "text/plain": [
              "7"
            ]
          },
          "metadata": {},
          "execution_count": 17
        }
      ]
    },
    {
      "cell_type": "code",
      "metadata": {
        "colab": {
          "base_uri": "https://localhost:8080/",
          "height": 265
        },
        "id": "koakzf-B9Q-c",
        "outputId": "da20161f-166b-4ba9-9392-b85ec5ce9156"
      },
      "source": [
        "img = X_train_full[4]\n",
        "plt.imshow(img,cmap=\"binary\")\n",
        "plt.show()\n"
      ],
      "execution_count": null,
      "outputs": [
        {
          "output_type": "display_data",
          "data": {
            "image/png": "[encoded data removed]",
            "text/plain": [
              "<Figure size 432x288 with 1 Axes>"
            ]
          },
          "metadata": {
            "needs_background": "light"
          }
        }
      ]
    },
    {
      "cell_type": "code",
      "metadata": {
        "colab": {
          "base_uri": "https://localhost:8080/"
        },
        "id": "jesbOMhg-WON",
        "outputId": "56ffbf65-58dd-4b5f-d988-80c3412b6920"
      },
      "source": [
        "img.max()"
      ],
      "execution_count": null,
      "outputs": [
        {
          "output_type": "execute_result",
          "data": {
            "text/plain": [
              "255"
            ]
          },
          "metadata": {},
          "execution_count": 24
        }
      ]
    },
    {
      "cell_type": "code",
      "metadata": {
        "colab": {
          "base_uri": "https://localhost:8080/",
          "height": 714
        },
        "id": "ZbcnXZjv97lu",
        "outputId": "6458071f-868d-4edd-c7dc-479aa8c1f393"
      },
      "source": [
        "plt.figure(figsize=(15,15))\n",
        "sns.heatmap(img/255,annot=True,cmap=\"binary\")"
      ],
      "execution_count": null,
      "outputs": [
        {
          "output_type": "execute_result",
          "data": {
            "text/plain": [
              "<matplotlib.axes._subplots.AxesSubplot at 0x7f09be69b150>"
            ]
          },
          "metadata": {},
          "execution_count": 25
        },
        {
          "output_type": "display_data",
          "data": {
            "image/png": "[encoded data removed]",
            "text/plain": [
              "<Figure size 1080x1080 with 2 Axes>"
            ]
          },
          "metadata": {
            "needs_background": "light"
          }
        }
      ]
    },
    {
      "cell_type": "code",
      "metadata": {
        "id": "7AFsZ-jX-SS4"
      },
      "source": [
        "X_valid, X_train = X_train_full[:5000] / 255., X_train_full[5000:] /255.\n",
        "y_valid, y_train = y_train_full[:5000], y_train_full[5000:]\n",
        "\n",
        "X_test = X_test /255."
      ],
      "execution_count": null,
      "outputs": []
    },
    {
      "cell_type": "code",
      "metadata": {
        "id": "H1SBEwrKDetw"
      },
      "source": [
        "LAYERS = [\n",
        "          tf.keras.layers.Flatten(input_shape=[28,28],name=\"inputlayer\"),\n",
        "          tf.keras.layers.Dense(300,activation=\"relu\",name=\"hiddenLayer1\"),\n",
        "          tf.keras.layers.Dense(100,activation=\"relu\",name=\"hiddenLayer2\"),\n",
        "          tf.keras.layers.Dense(10,activation=\"softmax\",name=\"outputLayer\"),\n",
        "]"
      ],
      "execution_count": null,
      "outputs": []
    },
    {
      "cell_type": "code",
      "metadata": {
        "id": "VmyJht8NFFtB"
      },
      "source": [
        "model_clf = tf.keras.models.Sequential(LAYERS)"
      ],
      "execution_count": null,
      "outputs": []
    },
    {
      "cell_type": "code",
      "metadata": {
        "colab": {
          "base_uri": "https://localhost:8080/"
        },
        "id": "e0oVlGOcF6DD",
        "outputId": "20a999f0-4a65-4935-d4fa-ae2b3a2f160b"
      },
      "source": [
        "model_clf.layers"
      ],
      "execution_count": null,
      "outputs": [
        {
          "output_type": "execute_result",
          "data": {
            "text/plain": [
              "[<keras.layers.core.Flatten at 0x7f09bc017d90>,\n",
              " <keras.layers.core.Dense at 0x7f09bbd45750>,\n",
              " <keras.layers.core.Dense at 0x7f09bbd83d90>,\n",
              " <keras.layers.core.Dense at 0x7f09bbe34e50>]"
            ]
          },
          "metadata": {},
          "execution_count": 43
        }
      ]
    },
    {
      "cell_type": "code",
      "metadata": {
        "colab": {
          "base_uri": "https://localhost:8080/"
        },
        "id": "lF81cjpvGG5l",
        "outputId": "e5ef09a4-ef59-4050-cef9-b6921d08a09c"
      },
      "source": [
        "model_clf.summary()"
      ],
      "execution_count": null,
      "outputs": [
        {
          "output_type": "stream",
          "name": "stdout",
          "text": [
            "Model: \"sequential_1\"\n",
            "_________________________________________________________________\n",
            "Layer (type)                 Output Shape              Param #   \n",
            "=================================================================\n",
            "inputlayer (Flatten)         (None, 784)               0         \n",
            "_________________________________________________________________\n",
            "hiddenLayer1 (Dense)         (None, 300)               235500    \n",
            "_________________________________________________________________\n",
            "hiddenLayer2 (Dense)         (None, 100)               30100     \n",
            "_________________________________________________________________\n",
            "outputLayer (Dense)          (None, 10)                1010      \n",
            "=================================================================\n",
            "Total params: 266,610\n",
            "Trainable params: 266,610\n",
            "Non-trainable params: 0\n",
            "_________________________________________________________________\n"
          ]
        }
      ]
    },
    {
      "cell_type": "code",
      "metadata": {
        "colab": {
          "base_uri": "https://localhost:8080/"
        },
        "id": "tANmnUh2GKk-",
        "outputId": "4c200e50-342e-468f-f6a2-6137a0ff441e"
      },
      "source": [
        "# firstlayer * secondlayer + bias\n",
        "\n",
        "784*300 + 300, 300*100 + 100, 100*10 + 10"
      ],
      "execution_count": null,
      "outputs": [
        {
          "output_type": "execute_result",
          "data": {
            "text/plain": [
              "(235500, 30100, 1010)"
            ]
          },
          "metadata": {},
          "execution_count": 45
        }
      ]
    },
    {
      "cell_type": "code",
      "metadata": {
        "colab": {
          "base_uri": "https://localhost:8080/"
        },
        "id": "49zId7UgGr8Z",
        "outputId": "f6472eac-cc05-4e7f-a88e-1e52663e62cc"
      },
      "source": [
        "np.sum((235500, 30100, 1010))"
      ],
      "execution_count": null,
      "outputs": [
        {
          "output_type": "execute_result",
          "data": {
            "text/plain": [
              "266610"
            ]
          },
          "metadata": {},
          "execution_count": 47
        }
      ]
    },
    {
      "cell_type": "code",
      "metadata": {
        "colab": {
          "base_uri": "https://localhost:8080/",
          "height": 35
        },
        "id": "lOyGVpMRGzeB",
        "outputId": "1efc8c9d-4227-40f9-f9f4-7030f800e5e8"
      },
      "source": [
        "model_clf.layers[3].name"
      ],
      "execution_count": null,
      "outputs": [
        {
          "output_type": "execute_result",
          "data": {
            "application/vnd.google.colaboratory.intrinsic+json": {
              "type": "string"
            },
            "text/plain": [
              "'outputLayer'"
            ]
          },
          "metadata": {},
          "execution_count": 50
        }
      ]
    },
    {
      "cell_type": "code",
      "metadata": {
        "id": "W92ayuxqHPoC"
      },
      "source": [
        "weights, bias =model_clf.layers[1].get_weights()"
      ],
      "execution_count": null,
      "outputs": []
    },
    {
      "cell_type": "code",
      "metadata": {
        "colab": {
          "base_uri": "https://localhost:8080/"
        },
        "id": "qimuEYXLHhNM",
        "outputId": "a337271a-fe92-4047-afd3-9754245c374f"
      },
      "source": [
        "weights.shape"
      ],
      "execution_count": null,
      "outputs": [
        {
          "output_type": "execute_result",
          "data": {
            "text/plain": [
              "(784, 300)"
            ]
          },
          "metadata": {},
          "execution_count": 53
        }
      ]
    },
    {
      "cell_type": "code",
      "metadata": {
        "colab": {
          "base_uri": "https://localhost:8080/"
        },
        "id": "QMX860DGHouW",
        "outputId": "cf6713b7-f9a9-4557-ef7e-4ebba887f523"
      },
      "source": [
        "bias.shape"
      ],
      "execution_count": null,
      "outputs": [
        {
          "output_type": "execute_result",
          "data": {
            "text/plain": [
              "(300,)"
            ]
          },
          "metadata": {},
          "execution_count": 54
        }
      ]
    },
    {
      "cell_type": "code",
      "metadata": {
        "id": "OSUd-oebHryB"
      },
      "source": [
        "LOSS_FUNCTION = \"sparse_categorical_crossentropy\"\n",
        "OPTIMIZER=\"SGD\"\n",
        "METRICS=[\"accuracy\"]\n",
        "\n",
        "model_clf.compile(loss=LOSS_FUNCTION,optimizer=OPTIMIZER,metrics=METRICS)"
      ],
      "execution_count": null,
      "outputs": []
    },
    {
      "cell_type": "code",
      "metadata": {
        "colab": {
          "base_uri": "https://localhost:8080/"
        },
        "id": "sr8dB8WjInU-",
        "outputId": "f089db84-36ea-4b63-c209-2bbd7f750e51"
      },
      "source": [
        "EPOCHS = 30\n",
        "VALIDATION = (X_valid, y_valid)\n",
        "\n",
        "history = model_clf.fit(X_train,y_train,epochs=EPOCHS,validation_data=VALIDATION)"
      ],
      "execution_count": null,
      "outputs": [
        {
          "output_type": "stream",
          "name": "stdout",
          "text": [
            "Epoch 1/30\n",
            "1719/1719 [==============================] - 8s 3ms/step - loss: 0.5764 - accuracy: 0.8566 - val_loss: 0.2978 - val_accuracy: 0.9206\n",
            "Epoch 2/30\n",
            "1719/1719 [==============================] - 5s 3ms/step - loss: 0.2823 - accuracy: 0.9194 - val_loss: 0.2310 - val_accuracy: 0.9376\n",
            "Epoch 3/30\n",
            "1719/1719 [==============================] - 5s 3ms/step - loss: 0.2294 - accuracy: 0.9350 - val_loss: 0.1955 - val_accuracy: 0.9466\n",
            "Epoch 4/30\n",
            "1719/1719 [==============================] - 5s 3ms/step - loss: 0.1947 - accuracy: 0.9443 - val_loss: 0.1708 - val_accuracy: 0.9528\n",
            "Epoch 5/30\n",
            "1719/1719 [==============================] - 5s 3ms/step - loss: 0.1695 - accuracy: 0.9520 - val_loss: 0.1532 - val_accuracy: 0.9570\n",
            "Epoch 6/30\n",
            "1719/1719 [==============================] - 5s 3ms/step - loss: 0.1506 - accuracy: 0.9572 - val_loss: 0.1379 - val_accuracy: 0.9624\n",
            "Epoch 7/30\n",
            "1719/1719 [==============================] - 5s 3ms/step - loss: 0.1349 - accuracy: 0.9619 - val_loss: 0.1286 - val_accuracy: 0.9638\n",
            "Epoch 8/30\n",
            "1719/1719 [==============================] - 5s 3ms/step - loss: 0.1220 - accuracy: 0.9656 - val_loss: 0.1200 - val_accuracy: 0.9686\n",
            "Epoch 9/30\n",
            "1719/1719 [==============================] - 5s 3ms/step - loss: 0.1113 - accuracy: 0.9686 - val_loss: 0.1127 - val_accuracy: 0.9690\n",
            "Epoch 10/30\n",
            "1719/1719 [==============================] - 5s 3ms/step - loss: 0.1019 - accuracy: 0.9717 - val_loss: 0.1091 - val_accuracy: 0.9706\n",
            "Epoch 11/30\n",
            "1719/1719 [==============================] - 5s 3ms/step - loss: 0.0937 - accuracy: 0.9740 - val_loss: 0.1006 - val_accuracy: 0.9724\n",
            "Epoch 12/30\n",
            "1719/1719 [==============================] - 5s 3ms/step - loss: 0.0866 - accuracy: 0.9765 - val_loss: 0.0972 - val_accuracy: 0.9736\n",
            "Epoch 13/30\n",
            "1719/1719 [==============================] - 5s 3ms/step - loss: 0.0800 - accuracy: 0.9776 - val_loss: 0.0911 - val_accuracy: 0.9744\n",
            "Epoch 14/30\n",
            "1719/1719 [==============================] - 5s 3ms/step - loss: 0.0747 - accuracy: 0.9796 - val_loss: 0.0877 - val_accuracy: 0.9756\n",
            "Epoch 15/30\n",
            "1719/1719 [==============================] - 5s 3ms/step - loss: 0.0694 - accuracy: 0.9810 - val_loss: 0.0842 - val_accuracy: 0.9764\n",
            "Epoch 16/30\n",
            "1719/1719 [==============================] - 5s 3ms/step - loss: 0.0650 - accuracy: 0.9821 - val_loss: 0.0811 - val_accuracy: 0.9792\n",
            "Epoch 17/30\n",
            "1719/1719 [==============================] - 5s 3ms/step - loss: 0.0605 - accuracy: 0.9833 - val_loss: 0.0801 - val_accuracy: 0.9786\n",
            "Epoch 18/30\n",
            "1719/1719 [==============================] - 5s 3ms/step - loss: 0.0568 - accuracy: 0.9848 - val_loss: 0.0776 - val_accuracy: 0.9786\n",
            "Epoch 19/30\n",
            "1719/1719 [==============================] - 5s 3ms/step - loss: 0.0532 - accuracy: 0.9858 - val_loss: 0.0743 - val_accuracy: 0.9800\n",
            "Epoch 20/30\n",
            "1719/1719 [==============================] - 5s 3ms/step - loss: 0.0500 - accuracy: 0.9867 - val_loss: 0.0768 - val_accuracy: 0.9802\n",
            "Epoch 21/30\n",
            "1719/1719 [==============================] - 5s 3ms/step - loss: 0.0471 - accuracy: 0.9875 - val_loss: 0.0746 - val_accuracy: 0.9790\n",
            "Epoch 22/30\n",
            "1719/1719 [==============================] - 5s 3ms/step - loss: 0.0441 - accuracy: 0.9885 - val_loss: 0.0732 - val_accuracy: 0.9794\n",
            "Epoch 23/30\n",
            "1719/1719 [==============================] - 5s 3ms/step - loss: 0.0416 - accuracy: 0.9889 - val_loss: 0.0704 - val_accuracy: 0.9800\n",
            "Epoch 24/30\n",
            "1719/1719 [==============================] - 5s 3ms/step - loss: 0.0390 - accuracy: 0.9903 - val_loss: 0.0711 - val_accuracy: 0.9798\n",
            "Epoch 25/30\n",
            "1719/1719 [==============================] - 5s 3ms/step - loss: 0.0367 - accuracy: 0.9911 - val_loss: 0.0711 - val_accuracy: 0.9802\n",
            "Epoch 26/30\n",
            "1719/1719 [==============================] - 5s 3ms/step - loss: 0.0344 - accuracy: 0.9917 - val_loss: 0.0697 - val_accuracy: 0.9802\n",
            "Epoch 27/30\n",
            "1719/1719 [==============================] - 6s 3ms/step - loss: 0.0326 - accuracy: 0.9924 - val_loss: 0.0689 - val_accuracy: 0.9802\n",
            "Epoch 28/30\n",
            "1719/1719 [==============================] - 5s 3ms/step - loss: 0.0310 - accuracy: 0.9926 - val_loss: 0.0667 - val_accuracy: 0.9804\n",
            "Epoch 29/30\n",
            "1719/1719 [==============================] - 5s 3ms/step - loss: 0.0290 - accuracy: 0.9936 - val_loss: 0.0684 - val_accuracy: 0.9798\n",
            "Epoch 30/30\n",
            "1719/1719 [==============================] - 5s 3ms/step - loss: 0.0273 - accuracy: 0.9938 - val_loss: 0.0679 - val_accuracy: 0.9798\n"
          ]
        }
      ]
    },
    {
      "cell_type": "code",
      "metadata": {
        "colab": {
          "base_uri": "https://localhost:8080/",
          "height": 973
        },
        "id": "UAtoU7luJB4z",
        "outputId": "82837d38-ca51-4d81-fefe-a4c16fad7211"
      },
      "source": [
        "pd.DataFrame(history.history)"
      ],
      "execution_count": null,
      "outputs": [
        {
          "output_type": "execute_result",
          "data": {
            "text/html": [
              "<div>\n",
              "<style scoped>\n",
              "    .dataframe tbody tr th:only-of-type {\n",
              "        vertical-align: middle;\n",
              "    }\n",
              "\n",
              "    .dataframe tbody tr th {\n",
              "        vertical-align: top;\n",
              "    }\n",
              "\n",
              "    .dataframe thead th {\n",
              "        text-align: right;\n",
              "    }\n",
              "</style>\n",
              "<table border=\"1\" class=\"dataframe\">\n",
              "  <thead>\n",
              "    <tr style=\"text-align: right;\">\n",
              "      <th></th>\n",
              "      <th>loss</th>\n",
              "      <th>accuracy</th>\n",
              "      <th>val_loss</th>\n",
              "      <th>val_accuracy</th>\n",
              "    </tr>\n",
              "  </thead>\n",
              "  <tbody>\n",
              "    <tr>\n",
              "      <th>0</th>\n",
              "      <td>0.576395</td>\n",
              "      <td>0.856564</td>\n",
              "      <td>0.297821</td>\n",
              "      <td>0.9206</td>\n",
              "    </tr>\n",
              "    <tr>\n",
              "      <th>1</th>\n",
              "      <td>0.282333</td>\n",
              "      <td>0.919400</td>\n",
              "      <td>0.230975</td>\n",
              "      <td>0.9376</td>\n",
              "    </tr>\n",
              "    <tr>\n",
              "      <th>2</th>\n",
              "      <td>0.229404</td>\n",
              "      <td>0.934982</td>\n",
              "      <td>0.195530</td>\n",
              "      <td>0.9466</td>\n",
              "    </tr>\n",
              "    <tr>\n",
              "      <th>3</th>\n",
              "      <td>0.194737</td>\n",
              "      <td>0.944345</td>\n",
              "      <td>0.170778</td>\n",
              "      <td>0.9528</td>\n",
              "    </tr>\n",
              "    <tr>\n",
              "      <th>4</th>\n",
              "      <td>0.169527</td>\n",
              "      <td>0.952000</td>\n",
              "      <td>0.153162</td>\n",
              "      <td>0.9570</td>\n",
              "    </tr>\n",
              "    <tr>\n",
              "      <th>5</th>\n",
              "      <td>0.150593</td>\n",
              "      <td>0.957218</td>\n",
              "      <td>0.137920</td>\n",
              "      <td>0.9624</td>\n",
              "    </tr>\n",
              "    <tr>\n",
              "      <th>6</th>\n",
              "      <td>0.134873</td>\n",
              "      <td>0.961909</td>\n",
              "      <td>0.128623</td>\n",
              "      <td>0.9638</td>\n",
              "    </tr>\n",
              "    <tr>\n",
              "      <th>7</th>\n",
              "      <td>0.121967</td>\n",
              "      <td>0.965600</td>\n",
              "      <td>0.119962</td>\n",
              "      <td>0.9686</td>\n",
              "    </tr>\n",
              "    <tr>\n",
              "      <th>8</th>\n",
              "      <td>0.111348</td>\n",
              "      <td>0.968618</td>\n",
              "      <td>0.112698</td>\n",
              "      <td>0.9690</td>\n",
              "    </tr>\n",
              "    <tr>\n",
              "      <th>9</th>\n",
              "      <td>0.101865</td>\n",
              "      <td>0.971655</td>\n",
              "      <td>0.109145</td>\n",
              "      <td>0.9706</td>\n",
              "    </tr>\n",
              "    <tr>\n",
              "      <th>10</th>\n",
              "      <td>0.093737</td>\n",
              "      <td>0.974018</td>\n",
              "      <td>0.100624</td>\n",
              "      <td>0.9724</td>\n",
              "    </tr>\n",
              "    <tr>\n",
              "      <th>11</th>\n",
              "      <td>0.086577</td>\n",
              "      <td>0.976527</td>\n",
              "      <td>0.097189</td>\n",
              "      <td>0.9736</td>\n",
              "    </tr>\n",
              "    <tr>\n",
              "      <th>12</th>\n",
              "      <td>0.079951</td>\n",
              "      <td>0.977636</td>\n",
              "      <td>0.091134</td>\n",
              "      <td>0.9744</td>\n",
              "    </tr>\n",
              "    <tr>\n",
              "      <th>13</th>\n",
              "      <td>0.074689</td>\n",
              "      <td>0.979582</td>\n",
              "      <td>0.087729</td>\n",
              "      <td>0.9756</td>\n",
              "    </tr>\n",
              "    <tr>\n",
              "      <th>14</th>\n",
              "      <td>0.069438</td>\n",
              "      <td>0.980964</td>\n",
              "      <td>0.084205</td>\n",
              "      <td>0.9764</td>\n",
              "    </tr>\n",
              "    <tr>\n",
              "      <th>15</th>\n",
              "      <td>0.064998</td>\n",
              "      <td>0.982091</td>\n",
              "      <td>0.081125</td>\n",
              "      <td>0.9792</td>\n",
              "    </tr>\n",
              "    <tr>\n",
              "      <th>16</th>\n",
              "      <td>0.060507</td>\n",
              "      <td>0.983291</td>\n",
              "      <td>0.080097</td>\n",
              "      <td>0.9786</td>\n",
              "    </tr>\n",
              "    <tr>\n",
              "      <th>17</th>\n",
              "      <td>0.056789</td>\n",
              "      <td>0.984782</td>\n",
              "      <td>0.077582</td>\n",
              "      <td>0.9786</td>\n",
              "    </tr>\n",
              "    <tr>\n",
              "      <th>18</th>\n",
              "      <td>0.053227</td>\n",
              "      <td>0.985836</td>\n",
              "      <td>0.074332</td>\n",
              "      <td>0.9800</td>\n",
              "    </tr>\n",
              "    <tr>\n",
              "      <th>19</th>\n",
              "      <td>0.049968</td>\n",
              "      <td>0.986655</td>\n",
              "      <td>0.076775</td>\n",
              "      <td>0.9802</td>\n",
              "    </tr>\n",
              "    <tr>\n",
              "      <th>20</th>\n",
              "      <td>0.047081</td>\n",
              "      <td>0.987473</td>\n",
              "      <td>0.074568</td>\n",
              "      <td>0.9790</td>\n",
              "    </tr>\n",
              "    <tr>\n",
              "      <th>21</th>\n",
              "      <td>0.044097</td>\n",
              "      <td>0.988545</td>\n",
              "      <td>0.073241</td>\n",
              "      <td>0.9794</td>\n",
              "    </tr>\n",
              "    <tr>\n",
              "      <th>22</th>\n",
              "      <td>0.041641</td>\n",
              "      <td>0.988927</td>\n",
              "      <td>0.070392</td>\n",
              "      <td>0.9800</td>\n",
              "    </tr>\n",
              "    <tr>\n",
              "      <th>23</th>\n",
              "      <td>0.038958</td>\n",
              "      <td>0.990327</td>\n",
              "      <td>0.071056</td>\n",
              "      <td>0.9798</td>\n",
              "    </tr>\n",
              "    <tr>\n",
              "      <th>24</th>\n",
              "      <td>0.036696</td>\n",
              "      <td>0.991055</td>\n",
              "      <td>0.071056</td>\n",
              "      <td>0.9802</td>\n",
              "    </tr>\n",
              "    <tr>\n",
              "      <th>25</th>\n",
              "      <td>0.034442</td>\n",
              "      <td>0.991673</td>\n",
              "      <td>0.069714</td>\n",
              "      <td>0.9802</td>\n",
              "    </tr>\n",
              "    <tr>\n",
              "      <th>26</th>\n",
              "      <td>0.032628</td>\n",
              "      <td>0.992400</td>\n",
              "      <td>0.068873</td>\n",
              "      <td>0.9802</td>\n",
              "    </tr>\n",
              "    <tr>\n",
              "      <th>27</th>\n",
              "      <td>0.030994</td>\n",
              "      <td>0.992582</td>\n",
              "      <td>0.066726</td>\n",
              "      <td>0.9804</td>\n",
              "    </tr>\n",
              "    <tr>\n",
              "      <th>28</th>\n",
              "      <td>0.028992</td>\n",
              "      <td>0.993618</td>\n",
              "      <td>0.068388</td>\n",
              "      <td>0.9798</td>\n",
              "    </tr>\n",
              "    <tr>\n",
              "      <th>29</th>\n",
              "      <td>0.027253</td>\n",
              "      <td>0.993836</td>\n",
              "      <td>0.067935</td>\n",
              "      <td>0.9798</td>\n",
              "    </tr>\n",
              "  </tbody>\n",
              "</table>\n",
              "</div>"
            ],
            "text/plain": [
              "        loss  accuracy  val_loss  val_accuracy\n",
              "0   0.576395  0.856564  0.297821        0.9206\n",
              "1   0.282333  0.919400  0.230975        0.9376\n",
              "2   0.229404  0.934982  0.195530        0.9466\n",
              "3   0.194737  0.944345  0.170778        0.9528\n",
              "4   0.169527  0.952000  0.153162        0.9570\n",
              "5   0.150593  0.957218  0.137920        0.9624\n",
              "6   0.134873  0.961909  0.128623        0.9638\n",
              "7   0.121967  0.965600  0.119962        0.9686\n",
              "8   0.111348  0.968618  0.112698        0.9690\n",
              "9   0.101865  0.971655  0.109145        0.9706\n",
              "10  0.093737  0.974018  0.100624        0.9724\n",
              "11  0.086577  0.976527  0.097189        0.9736\n",
              "12  0.079951  0.977636  0.091134        0.9744\n",
              "13  0.074689  0.979582  0.087729        0.9756\n",
              "14  0.069438  0.980964  0.084205        0.9764\n",
              "15  0.064998  0.982091  0.081125        0.9792\n",
              "16  0.060507  0.983291  0.080097        0.9786\n",
              "17  0.056789  0.984782  0.077582        0.9786\n",
              "18  0.053227  0.985836  0.074332        0.9800\n",
              "19  0.049968  0.986655  0.076775        0.9802\n",
              "20  0.047081  0.987473  0.074568        0.9790\n",
              "21  0.044097  0.988545  0.073241        0.9794\n",
              "22  0.041641  0.988927  0.070392        0.9800\n",
              "23  0.038958  0.990327  0.071056        0.9798\n",
              "24  0.036696  0.991055  0.071056        0.9802\n",
              "25  0.034442  0.991673  0.069714        0.9802\n",
              "26  0.032628  0.992400  0.068873        0.9802\n",
              "27  0.030994  0.992582  0.066726        0.9804\n",
              "28  0.028992  0.993618  0.068388        0.9798\n",
              "29  0.027253  0.993836  0.067935        0.9798"
            ]
          },
          "metadata": {},
          "execution_count": 58
        }
      ]
    },
    {
      "cell_type": "code",
      "metadata": {
        "colab": {
          "base_uri": "https://localhost:8080/",
          "height": 428
        },
        "id": "LwwHfFFTLvNy",
        "outputId": "27846ed6-ed8b-434b-e6df-16ba7956a24a"
      },
      "source": [
        "pd.DataFrame(history.history).plot(figsize=(10,7))\n",
        "plt.grid(True)\n",
        "plt.show()"
      ],
      "execution_count": null,
      "outputs": [
        {
          "output_type": "display_data",
          "data": {
            "image/png": "[encoded data removed]",
            "text/plain": [
              "<Figure size 720x504 with 1 Axes>"
            ]
          },
          "metadata": {
            "needs_background": "light"
          }
        }
      ]
    },
    {
      "cell_type": "code",
      "metadata": {
        "colab": {
          "base_uri": "https://localhost:8080/"
        },
        "id": "BKlCay8kMI5o",
        "outputId": "ff885a67-cabf-42ab-9554-3a1ac2c5b001"
      },
      "source": [
        "model_clf.evaluate(X_test,y_test)"
      ],
      "execution_count": null,
      "outputs": [
        {
          "output_type": "stream",
          "name": "stdout",
          "text": [
            "313/313 [==============================] - 1s 2ms/step - loss: 0.0752 - accuracy: 0.9782\n"
          ]
        },
        {
          "output_type": "execute_result",
          "data": {
            "text/plain": [
              "[0.07517698407173157, 0.9782000184059143]"
            ]
          },
          "metadata": {},
          "execution_count": 60
        }
      ]
    },
    {
      "cell_type": "code",
      "metadata": {
        "colab": {
          "base_uri": "https://localhost:8080/"
        },
        "id": "DODcPHFAMXKH",
        "outputId": "ad8bee90-36c1-4799-f8b3-026e0628fb96"
      },
      "source": [
        "x_new = X_test[:3]\n",
        "y_prob = model_clf.predict(x_new)\n",
        "\n",
        "y_prob.round(3)"
      ],
      "execution_count": null,
      "outputs": [
        {
          "output_type": "execute_result",
          "data": {
            "text/plain": [
              "array([[0.   , 0.   , 0.   , 0.001, 0.   , 0.   , 0.   , 0.999, 0.   ,\n",
              "        0.   ],\n",
              "       [0.   , 0.   , 0.999, 0.   , 0.   , 0.   , 0.   , 0.   , 0.   ,\n",
              "        0.   ],\n",
              "       [0.   , 0.999, 0.   , 0.   , 0.   , 0.   , 0.   , 0.001, 0.   ,\n",
              "        0.   ]], dtype=float32)"
            ]
          },
          "metadata": {},
          "execution_count": 66
        }
      ]
    },
    {
      "cell_type": "code",
      "metadata": {
        "colab": {
          "base_uri": "https://localhost:8080/"
        },
        "id": "4D8d_PObM-pr",
        "outputId": "13ad9095-fc07-4886-ace4-b0801dd94b8e"
      },
      "source": [
        "y_prob.shape"
      ],
      "execution_count": null,
      "outputs": [
        {
          "output_type": "execute_result",
          "data": {
            "text/plain": [
              "(3, 10)"
            ]
          },
          "metadata": {},
          "execution_count": 64
        }
      ]
    },
    {
      "cell_type": "code",
      "metadata": {
        "colab": {
          "base_uri": "https://localhost:8080/"
        },
        "id": "Ce4tWxifNFX1",
        "outputId": "350e8d52-f505-4be1-c786-b24ec1dd5af6"
      },
      "source": [
        "y_pred = np.argmax(y_prob,axis=-1)\n",
        "y_pred"
      ],
      "execution_count": null,
      "outputs": [
        {
          "output_type": "execute_result",
          "data": {
            "text/plain": [
              "array([7, 2, 1])"
            ]
          },
          "metadata": {},
          "execution_count": 77
        }
      ]
    },
    {
      "cell_type": "code",
      "metadata": {
        "colab": {
          "base_uri": "https://localhost:8080/",
          "height": 809
        },
        "id": "gkow6HJwNfRg",
        "outputId": "8cc520f7-b1d8-4581-89d3-5bc51d7ecb2d"
      },
      "source": [
        "for img_array, pred, actual in zip(x_new, y_pred, y_test[:3]):\n",
        "  plt.imshow(img_array, cmap=\"binary\")\n",
        "  plt.title(f\"predicted: {pred}, Actual: {actual}\")\n",
        "  plt.axis(\"off\")\n",
        "  plt.show()\n",
        "  print(\"---\"*20)"
      ],
      "execution_count": null,
      "outputs": [
        {
          "output_type": "display_data",
          "data": {
            "image/png": "[encoded data removed]",
            "text/plain": [
              "<Figure size 432x288 with 1 Axes>"
            ]
          },
          "metadata": {
            "needs_background": "light"
          }
        },
        {
          "output_type": "stream",
          "name": "stdout",
          "text": [
            "------------------------------------------------------------\n"
          ]
        },
        {
          "output_type": "display_data",
          "data": {
            "image/png": "[encoded data removed]",
            "text/plain": [
              "<Figure size 432x288 with 1 Axes>"
            ]
          },
          "metadata": {
            "needs_background": "light"
          }
        },
        {
          "output_type": "stream",
          "name": "stdout",
          "text": [
            "------------------------------------------------------------\n"
          ]
        },
        {
          "output_type": "display_data",
          "data": {
            "image/png": "[encoded data removed]",
            "text/plain": [
              "<Figure size 432x288 with 1 Axes>"
            ]
          },
          "metadata": {
            "needs_background": "light"
          }
        },
        {
          "output_type": "stream",
          "name": "stdout",
          "text": [
            "------------------------------------------------------------\n"
          ]
        }
      ]
    },
    {
      "cell_type": "code",
      "metadata": {
        "id": "tuYKEuS0WCYm",
        "colab": {
          "base_uri": "https://localhost:8080/"
        },
        "outputId": "88204ff8-e2fc-4432-a5f5-45034aa0e187"
      },
      "source": [
        "model_clf.save(\"model.m5\")"
      ],
      "execution_count": null,
      "outputs": [
        {
          "output_type": "stream",
          "name": "stdout",
          "text": [
            "INFO:tensorflow:Assets written to: model.m5/assets\n"
          ]
        }
      ]
    },
    {
      "cell_type": "code",
      "metadata": {
        "id": "d2qPRifCOets"
      },
      "source": [
        ""
      ],
      "execution_count": null,
      "outputs": []
    }
  ]
}